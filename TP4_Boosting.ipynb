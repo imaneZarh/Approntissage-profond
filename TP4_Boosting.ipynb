{
  "metadata": {
    "language_info": {
      "codemirror_mode": {
        "name": "python",
        "version": 3
      },
      "file_extension": ".py",
      "mimetype": "text/x-python",
      "name": "python",
      "nbconvert_exporter": "python",
      "pygments_lexer": "ipython3",
      "version": "3.8"
    },
    "kernelspec": {
      "name": "python",
      "display_name": "Python (Pyodide)",
      "language": "python"
    }
  },
  "nbformat_minor": 4,
  "nbformat": 4,
  "cells": [
    {
      "cell_type": "code",
      "source": "from sklearn.ensemble import AdaBoostClassifier\nfrom sklearn.datasets import load_digits\nfrom sklearn.model_selection import train_test_split\nimport numpy as np\nfrom sklearn import tree\n# Loader la dataSet\ndigits = load_digits()\nX, y = digits.data, digits.target",
      "metadata": {
        "trusted": true
      },
      "execution_count": 8,
      "outputs": []
    },
    {
      "cell_type": "code",
      "source": "X_train, X_test, y_train, y_test = train_test_split(X, y, test_size=0.90)\n# AdaBoost basé sur 200 arbres de décision\nclf = AdaBoostClassifier(base_estimator=tree.DecisionTreeClassifier(max_depth=5),\nn_estimators=200, learning_rate=2)\nclf.fit(X_train, y_train)\naccuracy = clf.score(X_test, y_test)\nprint(accuracy)",
      "metadata": {
        "trusted": true
      },
      "execution_count": 9,
      "outputs": [
        {
          "name": "stdout",
          "text": "0.8943139678615575\n",
          "output_type": "stream"
        }
      ]
    },
    {
      "cell_type": "code",
      "source": "# minimiser max_depth\nclf = AdaBoostClassifier(base_estimator=tree.DecisionTreeClassifier(max_depth=2),\nn_estimators=200, learning_rate=2)\nclf.fit(X_train, y_train)\naccuracy = clf.score(X_test, y_test)\nprint(accuracy)",
      "metadata": {
        "trusted": true
      },
      "execution_count": 10,
      "outputs": [
        {
          "name": "stdout",
          "text": "0.8281829419035847\n",
          "output_type": "stream"
        }
      ]
    },
    {
      "cell_type": "code",
      "source": "# maximiser max_depth\nclf = AdaBoostClassifier(base_estimator=tree.DecisionTreeClassifier(max_depth=10),\nn_estimators=200, learning_rate=2)\nclf.fit(X_train, y_train)\naccuracy = clf.score(X_test, y_test)\nprint(accuracy)",
      "metadata": {
        "trusted": true
      },
      "execution_count": 11,
      "outputs": [
        {
          "name": "stdout",
          "text": "0.7107540173053152\n",
          "output_type": "stream"
        }
      ]
    },
    {
      "cell_type": "code",
      "source": "# augmenter n_estimators\nclf = AdaBoostClassifier(base_estimator=tree.DecisionTreeClassifier(max_depth=5),\nn_estimators=1000, learning_rate=2)\nclf.fit(X_train, y_train)\naccuracy = clf.score(X_test, y_test)\nprint(accuracy)",
      "metadata": {
        "trusted": true
      },
      "execution_count": 13,
      "outputs": [
        {
          "name": "stdout",
          "text": "0.9140914709517923\n",
          "output_type": "stream"
        }
      ]
    },
    {
      "cell_type": "code",
      "source": "# Baisser n_estimators\nclf = AdaBoostClassifier(base_estimator=tree.DecisionTreeClassifier(max_depth=5),\nn_estimators=20, learning_rate=2)\nclf.fit(X_train, y_train)\naccuracy = clf.score(X_test, y_test)\nprint(accuracy)",
      "metadata": {
        "trusted": true
      },
      "execution_count": 15,
      "outputs": [
        {
          "name": "stdout",
          "text": "0.8386897404202719\n",
          "output_type": "stream"
        }
      ]
    },
    {
      "cell_type": "code",
      "source": "# Augmenter learning rate\nclf = AdaBoostClassifier(base_estimator=tree.DecisionTreeClassifier(max_depth=5),\nn_estimators=200, learning_rate=10)\nclf.fit(X_train, y_train)\naccuracy = clf.score(X_test, y_test)\nprint(accuracy)",
      "metadata": {
        "trusted": true
      },
      "execution_count": 18,
      "outputs": [
        {
          "name": "stdout",
          "text": "0.7058096415327565\n",
          "output_type": "stream"
        }
      ]
    },
    {
      "cell_type": "code",
      "source": "# Baisser learning rate\nclf = AdaBoostClassifier(base_estimator=tree.DecisionTreeClassifier(max_depth=5),\nn_estimators=200, learning_rate=2)\nclf.fit(X_train, y_train)\naccuracy = clf.score(X_test, y_test)\nprint(accuracy)",
      "metadata": {
        "trusted": true
      },
      "execution_count": 17,
      "outputs": [
        {
          "name": "stdout",
          "text": "0.8906056860321384\n",
          "output_type": "stream"
        }
      ]
    },
    {
      "cell_type": "code",
      "source": "",
      "metadata": {},
      "execution_count": null,
      "outputs": []
    }
  ]
}