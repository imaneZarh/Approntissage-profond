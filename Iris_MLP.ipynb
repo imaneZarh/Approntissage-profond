{
  "metadata": {
    "language_info": {
      "codemirror_mode": {
        "name": "python",
        "version": 3
      },
      "file_extension": ".py",
      "mimetype": "text/x-python",
      "name": "python",
      "nbconvert_exporter": "python",
      "pygments_lexer": "ipython3",
      "version": "3.8"
    },
    "kernelspec": {
      "name": "python",
      "display_name": "Python (Pyodide)",
      "language": "python"
    }
  },
  "nbformat_minor": 4,
  "nbformat": 4,
  "cells": [
    {
      "cell_type": "code",
      "source": "from sklearn import datasets\nfrom sklearn.model_selection import train_test_split\nimport numpy as np\nfrom sklearn.neural_network import MLPClassifier\nimport time\niris = datasets.load_iris()\nX,y= iris.data, iris.target\nX_train, X_test, y_train, y_test = train_test_split(X, y, test_size=0.5,random_state=0)",
      "metadata": {
        "trusted": true
      },
      "execution_count": 1,
      "outputs": []
    },
    {
      "cell_type": "code",
      "source": "#Avec une couche\nstart_time = time.time()\nmlp_1 = MLPClassifier(hidden_layer_sizes=(100),random_state=0)\nmlp_1.fit(X_train,y_train)\nend_time = time.time()\nprint('Accuracy:',mlp_1.score(X_test,y_test))\nprint('temps ecoule = '+str(end_time - start_time))",
      "metadata": {
        "trusted": true
      },
      "execution_count": 2,
      "outputs": [
        {
          "name": "stderr",
          "text": "/lib/python3.10/site-packages/sklearn/neural_network/_multilayer_perceptron.py:702: ConvergenceWarning: Stochastic Optimizer: Maximum iterations (200) reached and the optimization hasn't converged yet.\n  warnings.warn(\n",
          "output_type": "stream"
        },
        {
          "name": "stdout",
          "text": "Accuracy: 0.9733333333333334\ntemps ecoule = 0.37000012397766113\n",
          "output_type": "stream"
        }
      ]
    },
    {
      "cell_type": "code",
      "source": "#Avec 2 couche\nstart_time = time.time()\nmlp_1 = MLPClassifier(hidden_layer_sizes=(30,100),random_state=0)\nmlp_1.fit(X_train,y_train)\nend_time = time.time()\nprint('Accuracy:',mlp_1.score(X_test,y_test))\nprint('temps ecoule = '+str(end_time - start_time))",
      "metadata": {
        "trusted": true
      },
      "execution_count": 3,
      "outputs": [
        {
          "name": "stderr",
          "text": "/lib/python3.10/site-packages/sklearn/neural_network/_multilayer_perceptron.py:702: ConvergenceWarning: Stochastic Optimizer: Maximum iterations (200) reached and the optimization hasn't converged yet.\n  warnings.warn(\n",
          "output_type": "stream"
        },
        {
          "name": "stdout",
          "text": "Accuracy: 0.9733333333333334\ntemps ecoule = 0.6069996356964111\n",
          "output_type": "stream"
        }
      ]
    },
    {
      "cell_type": "code",
      "source": "#Avec 3 couche\nstart_time = time.time()\nmlp_1 = MLPClassifier(hidden_layer_sizes=(30,50,100),random_state=0)\nmlp_1.fit(X_train,y_train)\nend_time = time.time()\nprint('Accuracy:',mlp_1.score(X_test,y_test))\nprint('temps ecoule = '+str(end_time - start_time))",
      "metadata": {
        "trusted": true
      },
      "execution_count": 4,
      "outputs": [
        {
          "name": "stderr",
          "text": "/lib/python3.10/site-packages/sklearn/neural_network/_multilayer_perceptron.py:702: ConvergenceWarning: Stochastic Optimizer: Maximum iterations (200) reached and the optimization hasn't converged yet.\n  warnings.warn(\n",
          "output_type": "stream"
        },
        {
          "name": "stdout",
          "text": "Accuracy: 0.96\ntemps ecoule = 1.0460002422332764\n",
          "output_type": "stream"
        }
      ]
    },
    {
      "cell_type": "code",
      "source": "#Avec 4 couche\nstart_time = time.time()\nmlp_1 = MLPClassifier(hidden_layer_sizes=(30,50,100,200),random_state=0)\nmlp_1.fit(X_train,y_train)\nend_time = time.time()\nprint('Accuracy:',mlp_1.score(X_test,y_test))\nprint('temps ecoule = '+str(end_time - start_time))",
      "metadata": {
        "trusted": true
      },
      "execution_count": 5,
      "outputs": [
        {
          "name": "stderr",
          "text": "/lib/python3.10/site-packages/sklearn/neural_network/_multilayer_perceptron.py:702: ConvergenceWarning: Stochastic Optimizer: Maximum iterations (200) reached and the optimization hasn't converged yet.\n  warnings.warn(\n",
          "output_type": "stream"
        },
        {
          "name": "stdout",
          "text": "Accuracy: 0.96\ntemps ecoule = 2.8489999771118164\n",
          "output_type": "stream"
        }
      ]
    },
    {
      "cell_type": "code",
      "source": "#Avec 5 couche\nstart_time = time.time()\nmlp_1 = MLPClassifier(hidden_layer_sizes=(30,50,100,200,300),random_state=0)\nmlp_1.fit(X_train,y_train)\nend_time = time.time()\nprint('Accuracy:',mlp_1.score(X_test,y_test))\nprint('temps ecoule = '+str(end_time - start_time))",
      "metadata": {
        "trusted": true
      },
      "execution_count": 6,
      "outputs": [
        {
          "name": "stdout",
          "text": "Accuracy: 0.9866666666666667\ntemps ecoule = 7.889000177383423\n",
          "output_type": "stream"
        }
      ]
    },
    {
      "cell_type": "code",
      "source": "#Comparer les resultats avec un classifieur à noyau de type SVM\nfrom sklearn.svm import SVC\nstart_time = time.time()\nsvm=SVC(kernel='poly',C=100)\nsvm.fit(X_train,y_train)\nend_time = time.time()\nprint('Accuracy:',svm.score(X_test,y_test))\nprint('temps ecoule = '+str(end_time - start_time))\n",
      "metadata": {
        "trusted": true
      },
      "execution_count": 8,
      "outputs": [
        {
          "name": "stdout",
          "text": "Accuracy: 0.9733333333333334\ntemps ecoule = 0.0069997310638427734\n",
          "output_type": "stream"
        }
      ]
    },
    {
      "cell_type": "code",
      "source": "#Normaliser les donnees\nfrom sklearn.preprocessing import MinMaxScaler\nscaler = MinMaxScaler()\nscaler.fit(X_train)\nX_train = scaler.transform(X_train)\nX_test = scaler.transform(X_test)",
      "metadata": {
        "trusted": true
      },
      "execution_count": 11,
      "outputs": []
    },
    {
      "cell_type": "code",
      "source": "#Avec une couche\nstart_time = time.time()\nmlp_1 = MLPClassifier(hidden_layer_sizes=(100),random_state=0)\nmlp_1.fit(X_train,y_train)\nend_time = time.time()\nprint('_______________________1_____________________________')\nprint('Accuracy:',mlp_1.score(X_test,y_test))\nprint('temps ecoule = '+str(end_time - start_time))\n\n#Avec 2 couche\nstart_time = time.time()\nmlp_1 = MLPClassifier(hidden_layer_sizes=(30,100),random_state=0)\nmlp_1.fit(X_train,y_train)\nend_time = time.time()\nprint('_______________________2_____________________________')\nprint('Accuracy:',mlp_1.score(X_test,y_test))\nprint('temps ecoule = '+str(end_time - start_time))\n\n#Avec 3 couche\nstart_time = time.time()\nmlp_1 = MLPClassifier(hidden_layer_sizes=(30,50,100),random_state=0)\nmlp_1.fit(X_train,y_train)\nend_time = time.time()\nprint('_______________________3_____________________________')\nprint('Accuracy:',mlp_1.score(X_test,y_test))\nprint('temps ecoule = '+str(end_time - start_time))\n\n#Avec 4 couche\nstart_time = time.time()\nmlp_1 = MLPClassifier(hidden_layer_sizes=(30,50,100,200),random_state=0)\nmlp_1.fit(X_train,y_train)\nend_time = time.time()\nprint('_______________________4_____________________________')\nprint('Accuracy:',mlp_1.score(X_test,y_test))\nprint('temps ecoule = '+str(end_time - start_time))\n\n#Avec 5 couche\nstart_time = time.time()\nmlp_1 = MLPClassifier(hidden_layer_sizes=(30,50,100,200,300),random_state=0)\nmlp_1.fit(X_train,y_train)\nend_time = time.time()\nprint('_______________________5_____________________________')\nprint('Accuracy:',mlp_1.score(X_test,y_test))\nprint('temps ecoule = '+str(end_time - start_time))\n\n#svm\nstart_time = time.time()\nsvm=SVC(kernel='poly',C=100)\nsvm.fit(X_train,y_train)\nend_time = time.time()\nprint('_______________________SVM_____________________________')\nprint('Accuracy:',svm.score(X_test,y_test))\nprint('temps ecoule = '+str(end_time - start_time))",
      "metadata": {
        "trusted": true
      },
      "execution_count": 88,
      "outputs": [
        {
          "name": "stderr",
          "text": "/lib/python3.10/site-packages/sklearn/neural_network/_multilayer_perceptron.py:702: ConvergenceWarning: Stochastic Optimizer: Maximum iterations (200) reached and the optimization hasn't converged yet.\n  warnings.warn(\n",
          "output_type": "stream"
        },
        {
          "name": "stdout",
          "text": "_______________________1_____________________________\nAccuracy: 0.84\ntemps ecoule = 0.39799976348876953\n",
          "output_type": "stream"
        },
        {
          "name": "stderr",
          "text": "/lib/python3.10/site-packages/sklearn/neural_network/_multilayer_perceptron.py:702: ConvergenceWarning: Stochastic Optimizer: Maximum iterations (200) reached and the optimization hasn't converged yet.\n  warnings.warn(\n",
          "output_type": "stream"
        },
        {
          "name": "stdout",
          "text": "_______________________2_____________________________\nAccuracy: 0.9466666666666667\ntemps ecoule = 0.5100002288818359\n",
          "output_type": "stream"
        },
        {
          "name": "stderr",
          "text": "/lib/python3.10/site-packages/sklearn/neural_network/_multilayer_perceptron.py:702: ConvergenceWarning: Stochastic Optimizer: Maximum iterations (200) reached and the optimization hasn't converged yet.\n  warnings.warn(\n",
          "output_type": "stream"
        },
        {
          "name": "stdout",
          "text": "_______________________3_____________________________\nAccuracy: 0.9333333333333333\ntemps ecoule = 1.2470002174377441\n",
          "output_type": "stream"
        },
        {
          "name": "stderr",
          "text": "/lib/python3.10/site-packages/sklearn/neural_network/_multilayer_perceptron.py:702: ConvergenceWarning: Stochastic Optimizer: Maximum iterations (200) reached and the optimization hasn't converged yet.\n  warnings.warn(\n",
          "output_type": "stream"
        },
        {
          "name": "stdout",
          "text": "_______________________4_____________________________\nAccuracy: 0.9733333333333334\ntemps ecoule = 2.548999786376953\n_______________________5_____________________________\nAccuracy: 0.9733333333333334\ntemps ecoule = 5.595000267028809\n_______________________SVM_____________________________\nAccuracy: 0.9733333333333334\ntemps ecoule = 0.0710000991821289\n",
          "output_type": "stream"
        }
      ]
    },
    {
      "cell_type": "code",
      "source": "from sklearn.utils import get_chunk_n_rows\nn=500\nz=0.1\ntab = (\"lbfgs\", \"sgd\", \"adam\")\nfor i in tab:\n     print('--------------------',i,'--------------------')\n     print('--MLP 1 couche--')\n     start_time = time.time()\n     clf1 = MLPClassifier(solver=i,hidden_layer_sizes=(100),learning_rate_init=z,max_iter=n,random_state=0)\n     clf1.fit(X_train,y_train)\n     end_time = time.time()\n     print(clf1.score(X_test,y_test))\n     print('temps ecoule = '+str(end_time - start_time))\n     print('n_iter',clf1.n_iter_)\n     print('________________________')\n    \n     print('--MLP 2 couches--')\n     start_time = time.time()\n     clf2 = MLPClassifier(solver =i,hidden_layer_sizes=(50,100),learning_rate_init=z,max_iter=n,random_state=0)\n     clf2.fit(X_train,y_train)\n     end_time = time.time()\n     print(clf2.score(X_test,y_test))\n     print('temps ecoule = '+str(end_time - start_time))\n     print('n_iter',clf2.n_iter_)\n     print('________________________')\n        \n     print('--MLP 3 couches--')\n     start_time = time.time()\n     clf3 = MLPClassifier(solver =i,hidden_layer_sizes=(50,100,200),learning_rate_init=z,max_iter=n,random_state=0)\n     clf3.fit(X_train,y_train)\n     end_time = time.time()\n     print(clf3.score(X_test,y_test))\n     print('temps ecoule = '+str(end_time - start_time))\n     print('n_iter',clf3.n_iter_)\n     print('________________________')\n    \n     print('--MLP 4 couches--')\n     start_time = time.time()\n     clf4 = MLPClassifier(solver =i,hidden_layer_sizes=(50,100,200,300),learning_rate_init=z,max_iter=n,random_state=0)\n     clf4.fit(X_train,y_train)\n     end_time = time.time()\n     print(clf4.score(X_test,y_test))\n     print('temps ecoule = '+str(end_time - start_time))\n     print('n_iter',clf4.n_iter_)\n     print('________________________')\n        \n     print('--MLP 5 couches--')\n     start_time = time.time()\n     clf5= MLPClassifier(solver =i,hidden_layer_sizes=(100,150,200,250,300),learning_rate_init=z,max_iter=n,random_state=0)\n     clf5.fit(X_train,y_train)\n     end_time = time.time()\n     print(clf5.score(X_test,y_test))\n     print('temps ecoule = '+str(end_time - start_time))\n     print('n_iter',clf5.n_iter_)",
      "metadata": {
        "trusted": true
      },
      "execution_count": 38,
      "outputs": [
        {
          "name": "stdout",
          "text": "-------------------- lbfgs --------------------\n--MLP 1 couche--\n0.9733333333333334\ntemps ecoule = 0.10700011253356934\nn_iter 36\n________________________\n--MLP 2 couches--\n0.9466666666666667\ntemps ecoule = 1.2279999256134033\nn_iter 153\n________________________\n--MLP 3 couches--\n0.9733333333333334\ntemps ecoule = 2.3289999961853027\nn_iter 95\n________________________\n--MLP 4 couches--\n0.9733333333333334\ntemps ecoule = 9.019999980926514\nn_iter 123\n________________________\n--MLP 5 couches--\n0.96\ntemps ecoule = 40.59599995613098\nn_iter 254\n-------------------- sgd --------------------\n--MLP 1 couche--\n0.9466666666666667\ntemps ecoule = 0.22500014305114746\nn_iter 211\n________________________\n--MLP 2 couches--\n0.9333333333333333\ntemps ecoule = 0.3769998550415039\nn_iter 141\n________________________\n--MLP 3 couches--\n0.76\ntemps ecoule = 0.3000001907348633\nn_iter 31\n________________________\n--MLP 4 couches--\n0.9066666666666666\ntemps ecoule = 0.9470000267028809\nn_iter 27\n________________________\n--MLP 5 couches--\n0.76\ntemps ecoule = 1.4569997787475586\nn_iter 24\n-------------------- adam --------------------\n--MLP 1 couche--\n0.9733333333333334\ntemps ecoule = 0.1660001277923584\nn_iter 108\n________________________\n--MLP 2 couches--\n0.92\ntemps ecoule = 0.7049999237060547\nn_iter 123\n________________________\n--MLP 3 couches--\n0.96\ntemps ecoule = 0.9659998416900635\nn_iter 91\n________________________\n--MLP 4 couches--\n0.9733333333333334\ntemps ecoule = 4.360000133514404\nn_iter 117\n________________________\n--MLP 5 couches--\n0.96\ntemps ecoule = 13.490999937057495\nn_iter 140\n",
          "output_type": "stream"
        }
      ]
    },
    {
      "cell_type": "code",
      "source": "mlp = MLPClassifier(solver=\"lbfgs\",hidden_layer_sizes=(20),alpha = 0.0001,max_iter=500,activation = 'relu',random_state=0)\nmlp.fit(X_train,y_train)\nprint('Accuracy:',mlp.score(X_test,y_test))",
      "metadata": {
        "trusted": true
      },
      "execution_count": 110,
      "outputs": [
        {
          "name": "stdout",
          "text": "Accuracy: 0.9733333333333334\n",
          "output_type": "stream"
        }
      ]
    },
    {
      "cell_type": "code",
      "source": "",
      "metadata": {},
      "execution_count": null,
      "outputs": []
    },
    {
      "cell_type": "code",
      "source": "",
      "metadata": {},
      "execution_count": null,
      "outputs": []
    }
  ]
}