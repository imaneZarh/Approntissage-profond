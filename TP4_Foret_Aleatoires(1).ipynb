{
 "cells": [
  {
   "cell_type": "code",
   "execution_count": 29,
   "id": "a0b6c287",
   "metadata": {},
   "outputs": [],
   "source": [
    "from sklearn.datasets import load_digits\n",
    "from sklearn.model_selection import train_test_split\n",
    "from sklearn.ensemble import RandomForestClassifier\n",
    "from sklearn.ensemble import ExtraTreesClassifier\n",
    "import matplotlib.pyplot as plt"
   ]
  },
  {
   "cell_type": "code",
   "execution_count": 15,
   "id": "24f165a6",
   "metadata": {},
   "outputs": [],
   "source": [
    "digits = load_digits()\n",
    "X, y = digits.data, digits.target"
   ]
  },
  {
   "cell_type": "code",
   "execution_count": 18,
   "id": "09cd6cda",
   "metadata": {},
   "outputs": [
    {
     "name": "stdout",
     "output_type": "stream",
     "text": [
      "0.9091470951792336\n"
     ]
    }
   ],
   "source": [
    "X_train,X_test,y_train,y_test=train_test_split(X,y,test_size=0.90)\n",
    "clf = RandomForestClassifier(n_estimators=200)\n",
    "clf.fit(X_train, y_train)\n",
    "y_pred = clf.predict(X_test)\n",
    "accuracy = clf.score(X_test,y_test)\n",
    "print(accuracy)"
   ]
  },
  {
   "cell_type": "code",
   "execution_count": 19,
   "id": "d74dc986",
   "metadata": {},
   "outputs": [
    {
     "data": {
      "image/png": "[encoded data removed]",
      "text/plain": [
       "<Figure size 432x288 with 1 Axes>"
      ]
     },
     "metadata": {
      "needs_background": "light"
     },
     "output_type": "display_data"
    }
   ],
   "source": [
    "#valeur de l'accuracy pour 100 tirages (foret aleatoires)\n",
    "accuracies_foret = list()\n",
    "for i in range(0,99) : \n",
    "    X_train,X_test,y_train,y_test=train_test_split(X,y,test_size=0.90)\n",
    "    clf = RandomForestClassifier(n_estimators=200)\n",
    "    clf.fit(X_train, y_train)\n",
    "    y_pred = clf.predict(X_test)\n",
    "    accuracy = clf.score(X_test,y_test)\n",
    "    accuracies_foret.append(accuracy)\n",
    "    plt.stem(i,accuracy)\n",
    "plt.show()"
   ]
  },
  {
   "cell_type": "code",
   "execution_count": 25,
   "id": "d3bf69c4",
   "metadata": {},
   "outputs": [
    {
     "data": {
      "text/plain": [
       "0.014178253827239121"
      ]
     },
     "execution_count": 25,
     "metadata": {},
     "output_type": "execute_result"
    }
   ],
   "source": [
    "import numpy as np\n",
    "#Caluler l'ecart type (pourcentage d'erreur)\n",
    "std_accuracy = np.std(accuracies_foret)\n",
    "std_accuracy"
   ]
  },
  {
   "cell_type": "code",
   "execution_count": 26,
   "id": "6300b01f",
   "metadata": {},
   "outputs": [],
   "source": [
    "#construire le graphique accuracy et n_estimators\n",
    "accuracies_liste = list()\n",
    "liste = list()\n",
    "X_train, X_test, y_train, y_test = train_test_split(X, y, test_size=0.90)\n",
    "for i in range(10,1000,20):\n",
    "    clf = RandomForestClassifier(n_estimators=i)\n",
    "    clf.fit(X_train, y_train)\n",
    "    Z = clf.predict(X_test)\n",
    "    accuracy = clf.score(X_test,y_test)\n",
    "    accuracies_liste.append(accuracy)\n",
    "    liste.append(i)"
   ]
  },
  {
   "cell_type": "code",
   "execution_count": 27,
   "id": "92c91fea",
   "metadata": {},
   "outputs": [
    {
     "data": {
      "text/plain": [
       "[<matplotlib.lines.Line2D at 0x7f5c1c3ddd60>]"
      ]
     },
     "execution_count": 27,
     "metadata": {},
     "output_type": "execute_result"
    },
    {
     "data": {
      "image/png": "[encoded data removed]",
      "text/plain": [
       "<Figure size 432x288 with 1 Axes>"
      ]
     },
     "metadata": {
      "needs_background": "light"
     },
     "output_type": "display_data"
    }
   ],
   "source": [
    "plt.plot(liste,accuracies_liste)"
   ]
  },
  {
   "cell_type": "code",
   "execution_count": null,
   "id": "c83d5e3c",
   "metadata": {},
   "outputs": [],
   "source": [
    "#A partir de n_estimators = 700, l'accuracy ne s'ameliore plus"
   ]
  },
  {
   "cell_type": "code",
   "execution_count": 30,
   "id": "c02e0631",
   "metadata": {},
   "outputs": [
    {
     "name": "stdout",
     "output_type": "stream",
     "text": [
      "0.9258343634116193\n"
     ]
    }
   ],
   "source": [
    "#ExtraTreesClassifier\n",
    "X_train,X_test,y_train,y_test=train_test_split(X,y,test_size=0.90)\n",
    "clf = ExtraTreesClassifier(n_estimators=200)\n",
    "clf.fit(X_train, y_train)\n",
    "y_pred = clf.predict(X_test)\n",
    "accuracy = clf.score(X_test,y_test)\n",
    "print(accuracy)"
   ]
  },
  {
   "cell_type": "code",
   "execution_count": 32,
   "id": "e43e4530",
   "metadata": {},
   "outputs": [
    {
     "data": {
      "image/png": "[encoded data removed]",
      "text/plain": [
       "<Figure size 432x288 with 1 Axes>"
      ]
     },
     "metadata": {
      "needs_background": "light"
     },
     "output_type": "display_data"
    }
   ],
   "source": [
    "#valeur de l'accuracy pour 100 tirages (foret aleatoires)\n",
    "accuracies_foret_extra = list()\n",
    "for i in range(0,99) : \n",
    "    X_train,X_test,y_train,y_test=train_test_split(X,y,test_size=0.90)\n",
    "    clf = ExtraTreesClassifier(n_estimators=200)\n",
    "    clf.fit(X_train, y_train)\n",
    "    y_pred = clf.predict(X_test)\n",
    "    accuracy = clf.score(X_test,y_test)\n",
    "    accuracies_foret_extra.append(accuracy)\n",
    "    plt.stem(i,accuracy)\n",
    "plt.show()"
   ]
  },
  {
   "cell_type": "code",
   "execution_count": 33,
   "id": "6604476c",
   "metadata": {},
   "outputs": [
    {
     "data": {
      "text/plain": [
       "0.012040161323693283"
      ]
     },
     "execution_count": 33,
     "metadata": {},
     "output_type": "execute_result"
    }
   ],
   "source": [
    "#Calcule de l'ecart type\n",
    "std_accuracy_extra = np.std(accuracies_foret_extra)\n",
    "std_accuracy_extra"
   ]
  },
  {
   "cell_type": "code",
   "execution_count": null,
   "id": "9be7543c",
   "metadata": {},
   "outputs": [],
   "source": []
  }
 ],
 "metadata": {
  "kernelspec": {
   "display_name": "Python 3 (ipykernel)",
   "language": "python",
   "name": "python3"
  },
  "language_info": {
   "codemirror_mode": {
    "name": "ipython",
    "version": 3
   },
   "file_extension": ".py",
   "mimetype": "text/x-python",
   "name": "python",
   "nbconvert_exporter": "python",
   "pygments_lexer": "ipython3",
   "version": "3.9.12"
  }
 },
 "nbformat": 4,
 "nbformat_minor": 5
}
