{
 "cells": [
  {
   "cell_type": "code",
   "execution_count": 1,
   "id": "87e2ec63",
   "metadata": {},
   "outputs": [],
   "source": [
    "from sklearn.datasets import load_diabetes\n",
    "from sklearn.model_selection import train_test_split\n",
    "import numpy as np\n",
    "import matplotlib.pyplot as plt\n",
    "from sklearn.tree import DecisionTreeRegressor"
   ]
  },
  {
   "cell_type": "code",
   "execution_count": 2,
   "id": "cbbcad33",
   "metadata": {},
   "outputs": [
    {
     "data": {
      "text/plain": [
       "['age', 'sex', 'bmi', 'bp', 's1', 's2', 's3', 's4', 's5', 's6']"
      ]
     },
     "execution_count": 2,
     "metadata": {},
     "output_type": "execute_result"
    }
   ],
   "source": [
    "#charger la base\n",
    "data_db=load_diabetes()\n",
    "X,y=data_db.data,data_db.target\n",
    "data_db.feature_names"
   ]
  },
  {
   "cell_type": "code",
   "execution_count": 3,
   "id": "62d77f04",
   "metadata": {},
   "outputs": [],
   "source": [
    "#70% apprentissage, 30% test\n",
    "X_train,X_test,y_train,y_test = train_test_split(X, y,train_size=0.7,random_state=0)"
   ]
  },
  {
   "cell_type": "code",
   "execution_count": 37,
   "id": "955e22fc",
   "metadata": {},
   "outputs": [
    {
     "data": {
      "text/plain": [
       "array([109., 220., 109.,  52.,  52., 220.,  64., 220.,  52., 220.,  64.,\n",
       "       109.,  91.,  72., 109.,  52.,  64.,  72.,  72., 109., 109., 109.,\n",
       "        91.,  52., 220., 109.,  64.,  72., 109., 109., 109.,  72.,  52.,\n",
       "        64., 109., 109.,  64., 109.,  52., 109.,  64.,  91., 220., 109.,\n",
       "       109.,  72.,  64.,  52.,  91., 109.,  91.,  72.,  52., 109., 220.,\n",
       "        91., 109.,  52., 109., 220., 109., 109.,  52.,  91., 220., 109.,\n",
       "        72., 220., 220.,  64.,  52.,  91.,  91., 109.,  52.,  91.,  91.,\n",
       "       109., 109., 220., 109., 220.,  52., 220.,  91.,  64., 109., 109.,\n",
       "       109., 109.,  72.,  91.,  52., 109.,  64.,  64., 220., 109.,  52.,\n",
       "       109.,  64.,  52., 220.,  64., 220.,  52., 220., 220.,  52.,  91.,\n",
       "       109.,  64.,  64.,  91.,  64., 220., 109.,  64., 109.,  72.,  91.,\n",
       "        91.,  72., 220.,  91.,  91., 220., 109., 109., 220., 220.,  52.,\n",
       "       109.])"
      ]
     },
     "execution_count": 37,
     "metadata": {},
     "output_type": "execute_result"
    }
   ],
   "source": [
    "#modele Arbre de regression\n",
    "from sklearn import tree\n",
    "clf = tree.DecisionTreeClassifier(max_depth=3,min_samples_leaf=30)\n",
    "clf.fit(X_train, y_train)\n",
    "clf.predict(X_test)"
   ]
  },
  {
   "cell_type": "code",
   "execution_count": 38,
   "id": "16894b5b",
   "metadata": {},
   "outputs": [
    {
     "data": {
      "text/plain": [
       "0.007518796992481203"
      ]
     },
     "execution_count": 38,
     "metadata": {},
     "output_type": "execute_result"
    }
   ],
   "source": [
    "clf.score(X_test,y_test)"
   ]
  },
  {
   "cell_type": "code",
   "execution_count": 32,
   "id": "da4d6726",
   "metadata": {},
   "outputs": [],
   "source": [
    "#modele Arbre de regression\n",
    "from sklearn import tree\n",
    "clf = tree.DecisionTreeClassifier(max_depth=3,min_samples_leaf=30)\n",
    "clf.fit(X_train, y_train)\n",
    "y_pred = clf.predict(X_test)"
   ]
  },
  {
   "cell_type": "code",
   "execution_count": 34,
   "id": "30191b1c",
   "metadata": {},
   "outputs": [
    {
     "data": {
      "text/plain": [
       "0.007518796992481203"
      ]
     },
     "execution_count": 34,
     "metadata": {},
     "output_type": "execute_result"
    }
   ],
   "source": [
    "clf.score(X_test,y_test)"
   ]
  },
  {
   "cell_type": "code",
   "execution_count": 17,
   "id": "8305854b",
   "metadata": {},
   "outputs": [
    {
     "data": {
      "text/plain": [
       "array([321., 215., 127.,  64., 175., 275., 179., 232., 142.,  99., 252.,\n",
       "       174., 129.,  74., 264.,  49.,  86.,  75., 101., 155., 170., 276.,\n",
       "       110., 136.,  68., 128., 103.,  93., 191., 196., 217., 181., 168.,\n",
       "       200., 219., 281., 151., 257.,  49., 198.,  96., 179.,  95., 198.,\n",
       "       244.,  89., 214., 182.,  84., 270., 156., 138., 113., 131., 195.,\n",
       "       171., 122.,  61., 230., 235.,  52., 121., 144., 107., 132., 302.,\n",
       "        53., 317., 137.,  57.,  98., 170.,  88.,  90.,  67., 163., 104.,\n",
       "       186., 180., 283., 141., 150.,  47., 297., 104.,  49., 103., 142.,\n",
       "        59.,  85., 137.,  53.,  51., 197., 135.,  72., 208., 237., 145.,\n",
       "       110., 292.,  97., 197., 158., 163.,  63., 192., 233.,  68., 160.,\n",
       "       178.,  68., 109.,  94., 118., 275., 275., 127., 281.,  71.,  42.,\n",
       "        71., 128., 272., 135.,  51., 220., 167.,  78., 131., 212., 182.,\n",
       "       174.])"
      ]
     },
     "execution_count": 17,
     "metadata": {},
     "output_type": "execute_result"
    }
   ],
   "source": [
    "y_test"
   ]
  },
  {
   "cell_type": "code",
   "execution_count": 26,
   "id": "de88f883",
   "metadata": {},
   "outputs": [],
   "source": [
    "y_pred=clf.predict(X_test)"
   ]
  },
  {
   "cell_type": "code",
   "execution_count": 29,
   "id": "34c25964",
   "metadata": {},
   "outputs": [
    {
     "name": "stdout",
     "output_type": "stream",
     "text": [
      "7668.18045112782\n"
     ]
    }
   ],
   "source": [
    "#l'erreur quadratique\n",
    "from sklearn.metrics import mean_squared_error\n",
    "MSE = mean_squared_error(y_test , y_pred)\n",
    "print(MSE)"
   ]
  },
  {
   "cell_type": "code",
   "execution_count": 30,
   "id": "e41c6c38",
   "metadata": {},
   "outputs": [
    {
     "name": "stdout",
     "output_type": "stream",
     "text": [
      "Fitting 5 folds for each of 40 candidates, totalling 200 fits\n"
     ]
    },
    {
     "name": "stderr",
     "output_type": "stream",
     "text": [
      "/home/etudiant/anaconda3/lib/python3.9/site-packages/sklearn/model_selection/_split.py:676: UserWarning: The least populated class in y has only 1 members, which is less than n_splits=5.\n",
      "  warnings.warn(\n"
     ]
    },
    {
     "name": "stdout",
     "output_type": "stream",
     "text": [
      "Meilleur paramètres à choisir : {'max_depth': 3, 'min_samples_leaf': 30} \n",
      "Meilleur score obtenu : 0.022633527234267585 \n"
     ]
    }
   ],
   "source": [
    "#GridSearch\n",
    "from sklearn.model_selection import GridSearchCV\n",
    "\n",
    "values_depth = [1, 3, 5, 10, 20, 30, 40, 100] \n",
    "values_leaf=[10,20,30,50,600]\n",
    "parameters={'max_depth':values_depth,'min_samples_leaf':values_leaf}\n",
    "model = tree.DecisionTreeClassifier()\n",
    "grid_search = GridSearchCV(estimator=model,param_grid=parameters,verbose=True)\n",
    "grid_search.fit(X_train, y_train)\n",
    "#Meilleurs parametres a choisir\n",
    "print(\"Meilleur paramètres à choisir : {} \".format(grid_search.best_params_))\n",
    "#Meilleur score obtenue pour ces params\n",
    "print(\"Meilleur score obtenu : {} \".format(grid_search.best_score_))"
   ]
  },
  {
   "cell_type": "code",
   "execution_count": null,
   "id": "71983caa",
   "metadata": {},
   "outputs": [],
   "source": []
  }
 ],
 "metadata": {
  "kernelspec": {
   "display_name": "Python 3 (ipykernel)",
   "language": "python",
   "name": "python3"
  },
  "language_info": {
   "codemirror_mode": {
    "name": "ipython",
    "version": 3
   },
   "file_extension": ".py",
   "mimetype": "text/x-python",
   "name": "python",
   "nbconvert_exporter": "python",
   "pygments_lexer": "ipython3",
   "version": "3.9.12"
  }
 },
 "nbformat": 4,
 "nbformat_minor": 5
}
