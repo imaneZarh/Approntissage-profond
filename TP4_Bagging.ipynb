{
 "cells": [
  {
   "cell_type": "code",
   "execution_count": 1,
   "id": "8bed6493",
   "metadata": {},
   "outputs": [
    {
     "data": {
      "image/png": "[encoded data removed]",
      "text/plain": [
       "<Figure size 432x288 with 10 Axes>"
      ]
     },
     "metadata": {
      "needs_background": "light"
     },
     "output_type": "display_data"
    }
   ],
   "source": [
    "from sklearn.datasets import load_digits\n",
    "digits = load_digits()\n",
    "# Affichage des 10 premières images\n",
    "import matplotlib.pyplot as plt\n",
    "fig = plt.figure()\n",
    "for i, digit in enumerate(digits.images[:10]):\n",
    "    fig.add_subplot(1,10,i+1)\n",
    "    plt.imshow(digit)\n",
    "plt.show()"
   ]
  },
  {
   "cell_type": "code",
   "execution_count": 2,
   "id": "e5a9a413",
   "metadata": {},
   "outputs": [
    {
     "name": "stdout",
     "output_type": "stream",
     "text": [
      "1.0\n"
     ]
    }
   ],
   "source": [
    "import numpy as np\n",
    "from sklearn import tree\n",
    "from sklearn.ensemble import BaggingClassifier\n",
    "X, y = digits.data, digits.target\n",
    "clf = tree.DecisionTreeClassifier()\n",
    "clf.fit(X, y)\n",
    "accuracy = clf.score(X,y)\n",
    "print(accuracy)"
   ]
  },
  {
   "cell_type": "code",
   "execution_count": 3,
   "id": "c9d25dd1",
   "metadata": {},
   "outputs": [
    {
     "name": "stdout",
     "output_type": "stream",
     "text": [
      "0.6291718170580964\n"
     ]
    }
   ],
   "source": [
    "#On découpe la base en training et test\n",
    "from sklearn.model_selection import train_test_split\n",
    "# 90% des données pour le test, 10% pour l'apprentissage\n",
    "X_train, X_test, y_train, y_test = train_test_split(X, y, test_size=0.90)\n",
    "clf = tree.DecisionTreeClassifier()\n",
    "clf.fit(X_train, y_train)\n",
    "Z = clf.predict(X_test)\n",
    "accuracy = clf.score(X_test,y_test)\n",
    "print(accuracy)"
   ]
  },
  {
   "cell_type": "code",
   "execution_count": 4,
   "id": "db4c3c32",
   "metadata": {},
   "outputs": [
    {
     "data": {
      "image/png": "[encoded data removed]",
      "text/plain": [
       "<Figure size 432x288 with 1 Axes>"
      ]
     },
     "metadata": {
      "needs_background": "light"
     },
     "output_type": "display_data"
    }
   ],
   "source": [
    "#valeur de l'accuracy pour 100 tirages\n",
    "accuracies = list()\n",
    "for i in range(0,99) : \n",
    "    X_train, X_test, y_train, y_test = train_test_split(X, y, test_size=0.90)\n",
    "    clf = tree.DecisionTreeClassifier()\n",
    "    clf.fit(X_train, y_train)\n",
    "    Z = clf.predict(X_test)\n",
    "    accuracy = clf.score(X_test,y_test)\n",
    "    accuracies.append(accuracy)\n",
    "    plt.stem(i,accuracy)\n",
    "plt.show()"
   ]
  },
  {
   "cell_type": "code",
   "execution_count": 5,
   "id": "c5d7a28d",
   "metadata": {},
   "outputs": [
    {
     "data": {
      "text/plain": [
       "0.0009826892043025086"
      ]
     },
     "execution_count": 5,
     "metadata": {},
     "output_type": "execute_result"
    }
   ],
   "source": [
    "#Caluler la variance\n",
    "var_accuracy = np.var(accuracies)\n",
    "var_accuracy"
   ]
  },
  {
   "cell_type": "code",
   "execution_count": 6,
   "id": "9796f585",
   "metadata": {},
   "outputs": [],
   "source": [
    "clf = BaggingClassifier(tree.DecisionTreeClassifier(),\n",
    "max_samples=0.5, max_features=0.5, n_estimators=200)\n",
    "clf.fit(X_train, y_train)\n",
    "Z = clf.predict(X_test)\n",
    "accuracy=clf.score(X_test,y_test)"
   ]
  },
  {
   "cell_type": "code",
   "execution_count": 7,
   "id": "4b8620a1",
   "metadata": {},
   "outputs": [
    {
     "data": {
      "text/plain": [
       "0.8893695920889988"
      ]
     },
     "execution_count": 7,
     "metadata": {},
     "output_type": "execute_result"
    }
   ],
   "source": [
    "accuracy"
   ]
  },
  {
   "cell_type": "code",
   "execution_count": 8,
   "id": "6a478098",
   "metadata": {},
   "outputs": [
    {
     "data": {
      "image/png": "[encoded data removed]",
      "text/plain": [
       "<Figure size 432x288 with 1 Axes>"
      ]
     },
     "metadata": {
      "needs_background": "light"
     },
     "output_type": "display_data"
    }
   ],
   "source": [
    "#valeur de l'accuracy pour 100 tirages (bagging)\n",
    "accuracies_bagging = list()\n",
    "for i in range(0,99) : \n",
    "    X_train, X_test, y_train, y_test = train_test_split(X, y, test_size=0.90)\n",
    "    clf = BaggingClassifier(tree.DecisionTreeClassifier(),max_samples=0.5, max_features=0.5, n_estimators=200)\n",
    "    clf.fit(X_train, y_train)\n",
    "    Z = clf.predict(X_test)\n",
    "    accuracy = clf.score(X_test,y_test)\n",
    "    accuracies_bagging.append(accuracy)\n",
    "    plt.stem(i,accuracy)\n",
    "plt.show()"
   ]
  },
  {
   "cell_type": "code",
   "execution_count": 9,
   "id": "2d632634",
   "metadata": {},
   "outputs": [
    {
     "data": {
      "text/plain": [
       "0.00021942185948336002"
      ]
     },
     "execution_count": 9,
     "metadata": {},
     "output_type": "execute_result"
    }
   ],
   "source": [
    "#Caluler la variance\n",
    "var_accuracy = np.var(accuracies_bagging)\n",
    "var_accuracy"
   ]
  },
  {
   "cell_type": "code",
   "execution_count": 19,
   "id": "2e0c07b5",
   "metadata": {},
   "outputs": [],
   "source": [
    "#construire le graphique accuracy et n_estimators\n",
    "accuracies_liste = list()\n",
    "liste = list()\n",
    "X_train, X_test, y_train, y_test = train_test_split(X, y, test_size=0.90)\n",
    "for i in range(10,1000,20):\n",
    "    clf = BaggingClassifier(tree.DecisionTreeClassifier(),max_samples=0.5, max_features=0.5, n_estimators=i)\n",
    "    clf.fit(X_train, y_train)\n",
    "    Z = clf.predict(X_test)\n",
    "    accuracy = clf.score(X_test,y_test)\n",
    "    accuracies_liste.append(accuracy)\n",
    "    liste.append(i)"
   ]
  },
  {
   "cell_type": "code",
   "execution_count": 22,
   "id": "cfe05772",
   "metadata": {},
   "outputs": [
    {
     "data": {
      "text/plain": [
       "[<matplotlib.lines.Line2D at 0x7f127104cdc0>]"
      ]
     },
     "execution_count": 22,
     "metadata": {},
     "output_type": "execute_result"
    },
    {
     "data": {
      "image/png": "[encoded data removed]",
      "text/plain": [
       "<Figure size 432x288 with 1 Axes>"
      ]
     },
     "metadata": {
      "needs_background": "light"
     },
     "output_type": "display_data"
    }
   ],
   "source": [
    "plt.plot(liste,accuracies_liste)"
   ]
  },
  {
   "cell_type": "code",
   "execution_count": 23,
   "id": "e90213c9",
   "metadata": {},
   "outputs": [],
   "source": [
    "#A chaque fois que le n_estimators est grand, l'accuracy augmente"
   ]
  },
  {
   "cell_type": "code",
   "execution_count": 24,
   "id": "b6aae98d",
   "metadata": {},
   "outputs": [
    {
     "name": "stdout",
     "output_type": "stream",
     "text": [
      "Fitting 3 folds for each of 9 candidates, totalling 27 fits\n"
     ]
    },
    {
     "data": {
      "text/plain": [
       "GridSearchCV(cv=3,\n",
       "             estimator=BaggingClassifier(base_estimator=DecisionTreeClassifier(),\n",
       "                                         n_estimators=200),\n",
       "             param_grid={'max_features': [0.1, 0.3, 0.5],\n",
       "                         'max_samples': [0.2, 0.3, 0.5]},\n",
       "             verbose=True)"
      ]
     },
     "execution_count": 24,
     "metadata": {},
     "output_type": "execute_result"
    }
   ],
   "source": [
    "#varier max_samples et max_features\n",
    "#grid search\n",
    "from sklearn.model_selection import GridSearchCV\n",
    "\n",
    "max_samples = [0.2, 0.3, 0.5] \n",
    "max_features=[0.1, 0.3 ,0.5]\n",
    "parameters={'max_samples':max_samples,'max_features':max_features}\n",
    "model = BaggingClassifier(tree.DecisionTreeClassifier(), n_estimators=200)\n",
    "grid_search = GridSearchCV(estimator=model,param_grid=parameters,verbose=True,cv=3)\n",
    "grid_search.fit(X_train, y_train)"
   ]
  },
  {
   "cell_type": "code",
   "execution_count": 26,
   "id": "7ae200d4",
   "metadata": {},
   "outputs": [
    {
     "data": {
      "text/plain": [
       "{'max_features': 0.5, 'max_samples': 0.5}"
      ]
     },
     "execution_count": 26,
     "metadata": {},
     "output_type": "execute_result"
    }
   ],
   "source": [
    "#Meilleurs parametres a choisir\n",
    "grid_search.best_params_"
   ]
  },
  {
   "cell_type": "code",
   "execution_count": 27,
   "id": "16b8f715",
   "metadata": {},
   "outputs": [
    {
     "data": {
      "text/plain": [
       "0.9274011299435028"
      ]
     },
     "execution_count": 27,
     "metadata": {},
     "output_type": "execute_result"
    }
   ],
   "source": [
    "#Meilleur score obtenue pour ces params\n",
    "grid_search.best_score_"
   ]
  },
  {
   "cell_type": "code",
   "execution_count": null,
   "id": "ab2863cb",
   "metadata": {},
   "outputs": [],
   "source": []
  }
 ],
 "metadata": {
  "kernelspec": {
   "display_name": "Python 3 (ipykernel)",
   "language": "python",
   "name": "python3"
  },
  "language_info": {
   "codemirror_mode": {
    "name": "ipython",
    "version": 3
   },
   "file_extension": ".py",
   "mimetype": "text/x-python",
   "name": "python",
   "nbconvert_exporter": "python",
   "pygments_lexer": "ipython3",
   "version": "3.9.12"
  }
 },
 "nbformat": 4,
 "nbformat_minor": 5
}
